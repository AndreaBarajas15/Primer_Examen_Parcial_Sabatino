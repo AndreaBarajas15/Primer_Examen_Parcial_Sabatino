{
  "nbformat": 4,
  "nbformat_minor": 0,
  "metadata": {
    "colab": {
      "name": "Primer_Examen_Parcial_Sabatinos.ipynb",
      "provenance": [],
      "authorship_tag": "ABX9TyP+XZMUD9Nw5fpsbPuvYFP4",
      "include_colab_link": true
    },
    "kernelspec": {
      "name": "python3",
      "display_name": "Python 3"
    },
    "language_info": {
      "name": "python"
    }
  },
  "cells": [
    {
      "cell_type": "markdown",
      "metadata": {
        "id": "view-in-github",
        "colab_type": "text"
      },
      "source": [
        "<a href=\"https://colab.research.google.com/github/AndreaBarajas15/Primer_Examen_Parcial_Sabatino/blob/main/Primer_Examen_Parcial_Sabatinos.ipynb\" target=\"_parent\"><img src=\"https://colab.research.google.com/assets/colab-badge.svg\" alt=\"Open In Colab\"/></a>"
      ]
    },
    {
      "cell_type": "code",
      "execution_count": null,
      "metadata": {
        "id": "isjh7AKTaOsR"
      },
      "outputs": [],
      "source": [
        ""
      ]
    },
    {
      "cell_type": "code",
      "source": [
        "numero_inicial= int(input(\"Ingresar número: \"))\n",
        "sumatoria=0\n",
        "for numero in range(numero_inicial):\n",
        "  sumatoria= sumatoria + (numero+1)\n",
        "  print(\"El total de los numeros desde el incial hasta el final es: \", sumatoria)"
      ],
      "metadata": {
        "colab": {
          "base_uri": "https://localhost:8080/"
        },
        "id": "ERPICmPYaQto",
        "outputId": "671c7f37-c4bf-4534-e403-918ac1eb9a17"
      },
      "execution_count": 1,
      "outputs": [
        {
          "output_type": "stream",
          "name": "stdout",
          "text": [
            "Ingresar número: 6\n",
            "El total de los numeros desde el incial hasta el final es:  1\n",
            "El total de los numeros desde el incial hasta el final es:  3\n",
            "El total de los numeros desde el incial hasta el final es:  6\n",
            "El total de los numeros desde el incial hasta el final es:  10\n",
            "El total de los numeros desde el incial hasta el final es:  15\n",
            "El total de los numeros desde el incial hasta el final es:  21\n"
          ]
        }
      ]
    }
  ]
}