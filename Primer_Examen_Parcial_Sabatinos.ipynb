{
  "nbformat": 4,
  "nbformat_minor": 0,
  "metadata": {
    "colab": {
      "name": "Primer_Examen_Parcial_Sabatinos.ipynb",
      "provenance": [],
      "authorship_tag": "ABX9TyPHJHNedVATFtxlTECwGpfU",
      "include_colab_link": true
    },
    "kernelspec": {
      "name": "python3",
      "display_name": "Python 3"
    },
    "language_info": {
      "name": "python"
    }
  },
  "cells": [
    {
      "cell_type": "markdown",
      "metadata": {
        "id": "view-in-github",
        "colab_type": "text"
      },
      "source": [
        "<a href=\"https://colab.research.google.com/github/AndreaBarajas15/Primer_Examen_Parcial_Sabatino/blob/main/Primer_Examen_Parcial_Sabatinos.ipynb\" target=\"_parent\"><img src=\"https://colab.research.google.com/assets/colab-badge.svg\" alt=\"Open In Colab\"/></a>"
      ]
    },
    {
      "cell_type": "code",
      "execution_count": null,
      "metadata": {
        "id": "isjh7AKTaOsR"
      },
      "outputs": [],
      "source": [
        ""
      ]
    },
    {
      "cell_type": "code",
      "source": [
        "numero_inicial= int(input(\"Ingresar número: \"))\n",
        "sumatoria=0\n",
        "for numero in range(numero_inicial):\n",
        "  sumatoria= sumatoria + (numero+1)\n",
        "\n",
        "\n",
        "\n",
        "print(\"El total de los numeros desde el incial hasta el final es: \", sumatoria)"
      ],
      "metadata": {
        "colab": {
          "base_uri": "https://localhost:8080/"
        },
        "id": "ERPICmPYaQto",
        "outputId": "7cfdb9a2-4c56-4533-f639-2e9855a51501"
      },
      "execution_count": 3,
      "outputs": [
        {
          "output_type": "stream",
          "name": "stdout",
          "text": [
            "Ingresar número: 5\n",
            "El total de los numeros desde el incial hasta el final es:  15\n"
          ]
        }
      ]
    }
  ]
}