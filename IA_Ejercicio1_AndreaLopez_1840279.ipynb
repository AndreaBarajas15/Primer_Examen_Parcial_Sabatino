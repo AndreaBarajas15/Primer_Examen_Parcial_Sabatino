{
  "nbformat": 4,
  "nbformat_minor": 0,
  "metadata": {
    "colab": {
      "name": "IA_Ejercicio1_AndreaLopez_1840279.ipynb",
      "provenance": [],
      "authorship_tag": "ABX9TyMkFlerP4mK753xpBCeT2m2",
      "include_colab_link": true
    },
    "kernelspec": {
      "name": "python3",
      "display_name": "Python 3"
    },
    "language_info": {
      "name": "python"
    }
  },
  "cells": [
    {
      "cell_type": "markdown",
      "metadata": {
        "id": "view-in-github",
        "colab_type": "text"
      },
      "source": [
        "<a href=\"https://colab.research.google.com/github/AndreaBarajas15/Primer_Examen_Parcial_Sabatino/blob/main/IA_Ejercicio1_AndreaLopez_1840279.ipynb\" target=\"_parent\"><img src=\"https://colab.research.google.com/assets/colab-badge.svg\" alt=\"Open In Colab\"/></a>"
      ]
    },
    {
      "cell_type": "code",
      "execution_count": 11,
      "metadata": {
        "colab": {
          "base_uri": "https://localhost:8080/"
        },
        "id": "0z_HVY0j73dM",
        "outputId": "1139a83d-cace-4b27-fc85-4713d80a1171"
      },
      "outputs": [
        {
          "output_type": "stream",
          "name": "stdout",
          "text": [
            "Ingrese nombre de usuario:Andrea\n",
            "Bienvenido Andrea\n",
            "El ultimo elemento de la lista es: 9\n",
            "Lista:\n",
            "[1, 2, 3, 4, 5, 6, 7, 8, 9]\n",
            "Lista revertida:\n",
            "[9, 8, 7, 6, 5, 4, 3, 2, 1]\n"
          ]
        }
      ],
      "source": [
        "#A2: Ejercicios Básicos en Python Andrea Lissete López Barajas 1840279 N1\n",
        "\n",
        "#Escribir un programa que pida al usuario su nombre excepto si se llama Ana, Juan y Pedro\n",
        "nombre=str(input(\"Ingrese nombre de usuario:\"))\n",
        "if nombre!=\"Ana\" and nombre!=\"Juan\" and nombre!=\"Pedro\": \n",
        "  print(\"Bienvenido\",nombre)\n",
        "\n",
        "\n",
        "\n",
        "\n",
        "\n",
        "#Escriba una funcion que regrese al ultimo elemento de una lista y que revierta el orden y la imprima\n",
        "lista=[1,2,3,4,5,6,7,8,9]\n",
        "print(\"El ultimo elemento de la lista es:\",lista[-1])\n",
        "print(\"Lista:\")\n",
        "print(lista)\n",
        "print(\"Lista revertida:\")\n",
        "contador=len(lista)-1\n",
        "nuevaLista=[]\n",
        "while (contador>=0):\n",
        "   nuevaLista.append(lista[contador])\n",
        "   contador=contador-1\n",
        "print(nuevaLista)"
      ]
    }
  ]
}